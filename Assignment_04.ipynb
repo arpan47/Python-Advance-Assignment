{
 "cells": [
  {
   "cell_type": "markdown",
   "id": "66df6c6c",
   "metadata": {},
   "source": [
    "<h1 align='center' style=\"background-color:RGB(255, 228, 145);\">Python Advance Assignment 4</h1>"
   ]
  },
  {
   "cell_type": "markdown",
   "id": "04ff7584",
   "metadata": {},
   "source": [
    "### 1. Which two operator overloading methods can you use in your classes to support iteration ?"
   ]
  },
  {
   "cell_type": "raw",
   "id": "ffa54266",
   "metadata": {},
   "source": [
    "__iter__ and __next__ are the operator overloading methods in python that support iteration and are collectively called iterator protocol.\n",
    "\n",
    "__iter__ returns the iterator object and is called at the start of loop in our respective class.\n",
    "__next__ is called at each loop increment, it returns the incremented value. Also Stopiteration is raised when there is no value to return."
   ]
  },
  {
   "cell_type": "code",
   "execution_count": 17,
   "id": "90a386ed",
   "metadata": {
    "scrolled": true
   },
   "outputs": [
    {
     "name": "stdout",
     "output_type": "stream",
     "text": [
      "10 11 12 13 14 15 16 17 18 19 "
     ]
    }
   ],
   "source": [
    "class counter:\n",
    "    def __init__(self,low,high):\n",
    "        self.low = low\n",
    "        self.high = high\n",
    "    def __iter__(self):\n",
    "        return self\n",
    "    def __next__(self):\n",
    "        if self.low > self.high:\n",
    "            raise StopIteration\n",
    "        else:\n",
    "            self.low += 1\n",
    "            return self.low - 1\n",
    "        \n",
    "for ele in counter(10,19):\n",
    "    print(ele, end=\" \")"
   ]
  },
  {
   "cell_type": "markdown",
   "id": "a225e28d",
   "metadata": {},
   "source": [
    "### 2. In what contexts do the two operator overloading methods manage printing ?"
   ]
  },
  {
   "cell_type": "raw",
   "id": "f71fc715",
   "metadata": {},
   "source": [
    "__str__ and __repr__ are two operator overloading methods that manage printing.\n",
    "\n",
    "In Short, the difference between both these operators is the goal of __repr__ is to be unambiguous and __str__ is to be readable."
   ]
  },
  {
   "cell_type": "code",
   "execution_count": 30,
   "id": "8b12d86a",
   "metadata": {},
   "outputs": [
    {
     "name": "stdout",
     "output_type": "stream",
     "text": [
      "Person name is Arpan and age is 27\n",
      "Person(name=Arpan, age=27)\n"
     ]
    }
   ],
   "source": [
    "class Person:\n",
    "\n",
    "    def __init__(self, person_name, person_age):\n",
    "        self.name = person_name\n",
    "        self.age = person_age\n",
    "\n",
    "    def __str__(self):\n",
    "        return f'Person name is {self.name} and age is {self.age}'\n",
    "\n",
    "    def __repr__(self):\n",
    "        return f'Person(name={self.name}, age={self.age})'\n",
    "\n",
    "p = Person('Arpan', 27)\n",
    "\n",
    "print(p.__str__())\n",
    "print(p.__repr__())"
   ]
  },
  {
   "cell_type": "markdown",
   "id": "6bec024a",
   "metadata": {},
   "source": [
    "### 3. In a class, how do you intercept slice operations ?"
   ]
  },
  {
   "cell_type": "raw",
   "id": "d4bffbdb",
   "metadata": {},
   "source": [
    "In a class use of slice() in __getitem__ method is used for intercept slice operation. This slice method is provided with start integer number, stop integer number and step integer number.\n",
    "\n",
    "eg. __getitem__(slice(start,stop,step))"
   ]
  },
  {
   "cell_type": "code",
   "execution_count": 40,
   "id": "0f492eeb",
   "metadata": {},
   "outputs": [
    {
     "name": "stdout",
     "output_type": "stream",
     "text": [
      "rpa\n"
     ]
    }
   ],
   "source": [
    "sliced ='arpan'.__getitem__(slice(1, 4, 1)) \n",
    "print(sliced)"
   ]
  },
  {
   "cell_type": "markdown",
   "id": "78ecb80d",
   "metadata": {},
   "source": [
    "### 4. In a class, how do you capture in-place addition ?"
   ]
  },
  {
   "cell_type": "raw",
   "id": "2820dd63",
   "metadata": {},
   "source": [
    "In-place addition is captured using __iadd method. If __iadd is not present, __add is used with an assignment. Same method follows for binary addition. For right side addition, __radd method can be used."
   ]
  },
  {
   "cell_type": "code",
   "execution_count": 1,
   "id": "894d88a0",
   "metadata": {},
   "outputs": [
    {
     "name": "stdout",
     "output_type": "stream",
     "text": [
      "90\n"
     ]
    }
   ],
   "source": [
    "class students:\n",
    "    def __init__(self,count):\n",
    "        self.count = count\n",
    "    def __add__(self,other):\n",
    "        self.count += other.count\n",
    "        return self.count\n",
    "    \n",
    "s1 = students(40)\n",
    "s2 = students(50)\n",
    "s1+=s2\n",
    "print(s1)"
   ]
  },
  {
   "cell_type": "markdown",
   "id": "19cf2fe3",
   "metadata": {},
   "source": [
    "### 5. When is it appropriate to use operator overloading ?"
   ]
  },
  {
   "cell_type": "raw",
   "id": "595b0820",
   "metadata": {},
   "source": [
    "Operator overloading is used when we want to use an operator other than its normal operation to have different meaning according to the context required in user defined function."
   ]
  },
  {
   "cell_type": "code",
   "execution_count": 11,
   "id": "14b44902",
   "metadata": {},
   "outputs": [
    {
     "name": "stdout",
     "output_type": "stream",
     "text": [
      "Total Number of Students = 138\n"
     ]
    }
   ],
   "source": [
    "class students:\n",
    "    def __init__(self,count):\n",
    "        self.count = count\n",
    "    def __add__(self,other):\n",
    "        return self.count+other.count\n",
    "s1 = students(80)\n",
    "s2 = students(58)\n",
    "print(f'Total Number of Students = {s1 + s2}')"
   ]
  }
 ],
 "metadata": {
  "kernelspec": {
   "display_name": "Python 3 (ipykernel)",
   "language": "python",
   "name": "python3"
  },
  "language_info": {
   "codemirror_mode": {
    "name": "ipython",
    "version": 3
   },
   "file_extension": ".py",
   "mimetype": "text/x-python",
   "name": "python",
   "nbconvert_exporter": "python",
   "pygments_lexer": "ipython3",
   "version": "3.9.7"
  }
 },
 "nbformat": 4,
 "nbformat_minor": 5
}
