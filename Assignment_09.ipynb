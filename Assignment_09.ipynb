{
 "cells": [
  {
   "cell_type": "markdown",
   "id": "35e8d184",
   "metadata": {},
   "source": [
    "<h1 align='center' style=\"background-color:RGB(255, 228, 145);\">Python Advance Assignment 9</h1>"
   ]
  },
  {
   "cell_type": "markdown",
   "id": "8f963c6f",
   "metadata": {},
   "source": [
    "### 1. In Python 3.X, what are the names and functions of string object types ?"
   ]
  },
  {
   "cell_type": "raw",
   "id": "e1fce4b4",
   "metadata": {},
   "source": [
    "The following are the names and functions of string object types in Python 3.X\n",
    "\n",
    "<stirng>.isdecimal() -> Returns True if all characters in a string are decimal.\n",
    "<string>.isalnum() -> Returns True if all characters in the string are AlphaNumeric.\n",
    "<string>.istitle() -> Returns True if first character in a string is in Uppercase.\n",
    "<string>.partition(<sub_string>) -> Splits string at first occurance of sub string and returns a tuple of 3 elements.\n",
    "<string>.rpartition(<sub_string>) -> Splits string at last occurance of sub string and returns a tuple of 3 elements.\n",
    "<string>.isidentifier() -> Returns True if give string is a valid identifier name.\n",
    "len(<string>) -> Returns the length of the given string.\n",
    "<string>.index(<sub_string>) -> Returns the lowest index of substring if substring is found in the string.\n",
    "<string>.rindex(<sub_string>) -> Returns the highest index of substring if substring is found in the string.\n",
    "max(<string>) -> Returns the highest Alphabetical Character in the string as per ASCII.\n",
    "min(<string>) -> Returns the lowest Alphabetical Character in the string as per ASCII.\n",
    "<string>.splitlines() -> Returns a list of lines in the string.\n",
    "<string>.capitalize() -> Returns the string with first character capitalized.\n",
    "<string>.upper() -> Returns the string with all characters in uppercase.\n",
    "<string>.lower() -> Returns the string with all characters in lowercase\n",
    "<string>.casefold() -> Returns the string in lowercase which can be used for caseless comparisions.\n",
    "<string>.expandtabs(no_of_spaces) -> Replaces tabs in a string with specified no of spaces default is 8\n",
    "<string>.find(<sub_string>) -> Returns lowest index of substring if substring is found in the string else returns -1.\n",
    "<string>.rfind(<sub_string>) -> Returns highest index of substring if substring is found in the string else returns -1.\n",
    "<string>.count(<char>) -> Returns the no of occurances of the char in the given string.\n",
    "<string>.split(<sep>) -> Returns list of words seperated by given sep else seperated by whitespace.\n",
    "<string>.rsplit(<sep>) -> Returns list of words seperated by given sep else seperated by whitespace scanning from end.\n",
    "<string>.lstrip() -> Returns a copy of where leading whitespaces are removed.\n",
    "<string>.rstrip() -> Returns a copy of where trailed whitespaces are removed.\n",
    "<string>.strip() -> Returns a copy of where both leading and trailing whitespaces are removed.\n",
    "<string>.swapcase() -> Swaps lowercase characters with uppercase and vice versa.\n",
    "<sep>.join(<list>) -> Concatenates a list or tuple of words with intervening occuernces of sep.\n",
    "<string>.translate(<mapping_table>) -> translates the characters using table.\n",
    "<string>.maketrans(<dict>) -> Creating a mapping translation tbale usable for  <string>.translate(<mapping_table>)\n",
    "<string>.replace(<char_1>,<char_2>) -> Replace all occurances of char_1 with char_2 in string.¶\n",
    "<string>.encode() -> Encodes string into any encoding supported by python. Default encoding is  UTF-8 .\n",
    "<string>.ljust(<no_of_spaces>) -> Left-justify in a field of given width.\n",
    "<string>.rjust(<no_of_spaces>) -> Right-justify in a field of given width.\n",
    "<string>.center(<no_of_spaces>) -> Center-justify in a field of given width.\n",
    "<stirng>.zfill(<length>) -> Zfill adds zeros to the begining of string until the specified length is reached."
   ]
  },
  {
   "cell_type": "code",
   "execution_count": 16,
   "id": "471cc4af",
   "metadata": {},
   "outputs": [
    {
     "name": "stdout",
     "output_type": "stream",
     "text": [
      "True\n",
      "False\n",
      "True\n",
      "('\"I could study all day, DS_ML ', 'is', ' my favorite field\"')\n",
      "('\"I could study all ', 'day', ', DS_ML is my favorite field\"')\n",
      "True\n",
      "15\n",
      "1\n",
      "4\n",
      "t\n",
      "A\n",
      "['Ineuron ', ' Full Stack ', ' Data Science ', ' Course ']\n",
      "Learning python\n",
      "CV AND NLP\n",
      "cv and nlp\n",
      "arpan maity\n",
      "Business Analyst    Data Analyst\n",
      "4\n",
      "6\n",
      "1\n",
      "['Doctor Strange in the ', 'ultiverse of ', 'adness']\n",
      "['Doctor Strange in the ', 'ultiverse of ', 'adness']\n",
      "NLP11\n",
      "11NLP\n",
      "NLP\n",
      "eda WITH tABLEAU\n",
      "Titanic_ship_details\n",
      "Hello Arpan,\n",
      "Hello $rpan!\n",
      "I2euro2\n",
      "b'Natural Language Processing'\n",
      "Nemo      \n",
      "      Nemo\n",
      "   Nemo   \n",
      "00000Hello\n"
     ]
    }
   ],
   "source": [
    "print('543453535'.isdecimal())\n",
    "print('FSDS@iNeuron'.isalnum())\n",
    "print('Data Science With Python'.istitle())\n",
    "print('\"I could study all day, DS_ML is my favorite field\"'.partition('is'))\n",
    "print('\"I could study all day, DS_ML is my favorite field\"'.rpartition('day'))\n",
    "print('iNeuronFsds'.isidentifier())\n",
    "print(len('Linear variable'))\n",
    "print('English'.index('n'))\n",
    "print('Engineer'.rindex('n'))\n",
    "print(max('Data_Engineer'))\n",
    "print(min('Business_Analyst'))\n",
    "print('Ineuron \\n Full Stack \\n Data Science \\n Course '.splitlines())\n",
    "print('learning python'.capitalize())\n",
    "print('cv and nlp'.upper())\n",
    "print('CV and NLP'.lower())\n",
    "print('Arpan Maity'.casefold())\n",
    "print('Business Analyst\\tData Analyst'.expandtabs(10))\n",
    "print('Learning'.find('n'))\n",
    "print('Learning'.rfind('n'))\n",
    "print('Avengers'.count('s'))\n",
    "print('Doctor Strange in the Multiverse of Madness'.split('M'))\n",
    "print('Doctor Strange in the Multiverse of Madness'.rsplit('M'))\n",
    "print('11NLP11'.lstrip('1'))\n",
    "print('11NLP11'.rstrip('1'))\n",
    "print('11NLP11'.strip('1'))\n",
    "print('EDA with Tableau'.swapcase())\n",
    "print('_'.join(['Titanic','ship','details']))\n",
    "\n",
    "mydict = {33:  44}\n",
    "print(\"Hello Arpan!\".translate(mydict))\n",
    "\n",
    "txt = \"Hello Arpan!\"\n",
    "mytable = txt.maketrans('A', \"$\")\n",
    "print(txt.translate(mytable))\n",
    "\n",
    "print('Ineuron'.replace('n','2'))\n",
    "print('Natural Language Processing'.encode())\n",
    "print('Nemo'.ljust(10))\n",
    "print('Nemo'.rjust(10))\n",
    "print('Nemo'.center(10))\n",
    "print('Hello'.zfill(10))"
   ]
  },
  {
   "cell_type": "markdown",
   "id": "3cd428a9",
   "metadata": {},
   "source": [
    "### 2. How do the string forms in Python 3.X vary in terms of operations ?"
   ]
  },
  {
   "cell_type": "raw",
   "id": "07bd22e7",
   "metadata": {},
   "source": [
    "(a) Python string syntax is easy to understand.\n",
    "(b) Python 3 by default stores it as unicode.\n",
    "(c) Python 3 value of variable never change. \n",
    "(d) Python 3 offers Range() function to perform iterations \n",
    "(e) Python 3 exceptions should be enclosed in parenthesis."
   ]
  },
  {
   "cell_type": "markdown",
   "id": "a1730a0e",
   "metadata": {},
   "source": [
    "### 3. In Python 3.X, how do you put non-ASCII Unicode characters in a string?"
   ]
  },
  {
   "cell_type": "raw",
   "id": "47685ec1",
   "metadata": {},
   "source": [
    "Python use unidecode library in order to translate non -ASCII.It provides an unidecode() method that takes Unicode data and tries to represent it in ASCII. This method automatically determines scripting language and transliterates it accordingly. It accepts unicode string values and returns a transliteration in string format."
   ]
  },
  {
   "cell_type": "code",
   "execution_count": 21,
   "id": "1717faab",
   "metadata": {},
   "outputs": [
    {
     "name": "stdout",
     "output_type": "stream",
     "text": [
      "aamaar naam arpnn / \n"
     ]
    }
   ],
   "source": [
    "from unidecode import unidecode\n",
    "print(unidecode(\"আমার নাম অর্পণ।\"))"
   ]
  },
  {
   "cell_type": "markdown",
   "id": "663ae717",
   "metadata": {},
   "source": [
    "### 4. In Python 3.X, what are the key differences between text-mode and binary-mode files ?"
   ]
  },
  {
   "cell_type": "raw",
   "id": "aef05cf5",
   "metadata": {},
   "source": [
    "The major difference between these two is that a text file contains textual information in the form of alphabets, digits and special characters or symbols. On the other hand, a binary file contains bytes or a compiled version of a text file.\n",
    "\n",
    "When a file is opened in text mode, reading its data automatically decodes its content (as per the platform default or as per provided encoding), and returns it as a str; writing operation takes a str and automatically encodes it before transferring to the file. Text mode files also support universal end-of-line translation, and encoding specification arguments.\n",
    "\n",
    "When a file is opened in binary mode by adding a b to the mode string argument in the open() call, reading its data does not decode it in any way, and simply returns its content raw and unchanged, as a bytes object; writing takes a bytes object and transfers it to the file unchanged. Binary-mode files also accept a bytearray object for the content to be written to the file."
   ]
  },
  {
   "cell_type": "markdown",
   "id": "101ed4aa",
   "metadata": {},
   "source": [
    "### 5. How can you interpret a Unicode text file containing text encoded in a different encoding than your platform's default ?"
   ]
  },
  {
   "cell_type": "raw",
   "id": "02bd1bc7",
   "metadata": {},
   "source": [
    "Use of encode() and decode() method can be used to you interpret a Unicode text file containing text encoded in a different encoding than your platform's default, by default encoding parameter is UTF-8."
   ]
  },
  {
   "cell_type": "markdown",
   "id": "586eb173",
   "metadata": {},
   "source": [
    "### 6. What is the best way to make a Unicode text file in a particular encoding format ?"
   ]
  },
  {
   "cell_type": "raw",
   "id": "fbb558fb",
   "metadata": {},
   "source": [
    "Use str.encode() and file.write() to make a Unicode text file in a particular encoding format, default encoding format is UTF-18.\n",
    "\n",
    "Call str.encode(encoding) with encoding set to utf8 to encode str.\n",
    "Call open(file, mode) to open a file with mode set to wb . wb writes to files in binary mode & preserves UTF-8format.\n",
    "Call file.write(data) to write data to the file."
   ]
  },
  {
   "cell_type": "code",
   "execution_count": 28,
   "id": "79543d99",
   "metadata": {},
   "outputs": [
    {
     "name": "stdout",
     "output_type": "stream",
     "text": [
      "b'\\xe0\\xa4\\xae\\xe0\\xa5\\x88\\xe0\\xa4\\x82 \\xe0\\xa4\\xaa\\xe0\\xa4\\xbe\\xe0\\xa4\\xaf\\xe0\\xa4\\xa5\\xe0\\xa4\\xa8 \\xe0\\xa4\\xaa\\xe0\\xa5\\x8d\\xe0\\xa4\\xb0\\xe0\\xa5\\x8b\\xe0\\xa4\\x97\\xe0\\xa5\\x8d\\xe0\\xa4\\xb0\\xe0\\xa4\\xbe\\xe0\\xa4\\xae\\xe0\\xa4\\xbf\\xe0\\xa4\\x82\\xe0\\xa4\\x97 \\xe0\\xa4\\xad\\xe0\\xa4\\xbe\\xe0\\xa4\\xb7\\xe0\\xa4\\xbe \\xe0\\xa4\\xb8\\xe0\\xa5\\x80\\xe0\\xa4\\x96 \\xe0\\xa4\\xb0\\xe0\\xa4\\xb9\\xe0\\xa4\\xbe \\xe0\\xa4\\xb9\\xe0\\xa5\\x82\\xe0\\xa4\\x81'\n",
      "\n",
      "b'\\xe0\\xa4\\xae\\xe0\\xa5\\x88\\xe0\\xa4\\x82 \\xe0\\xa4\\xaa\\xe0\\xa4\\xbe\\xe0\\xa4\\xaf\\xe0\\xa4\\xa5\\xe0\\xa4\\xa8 \\xe0\\xa4\\xaa\\xe0\\xa5\\x8d\\xe0\\xa4\\xb0\\xe0\\xa5\\x8b\\xe0\\xa4\\x97\\xe0\\xa5\\x8d\\xe0\\xa4\\xb0\\xe0\\xa4\\xbe\\xe0\\xa4\\xae\\xe0\\xa4\\xbf\\xe0\\xa4\\x82\\xe0\\xa4\\x97 \\xe0\\xa4\\xad\\xe0\\xa4\\xbe\\xe0\\xa4\\xb7\\xe0\\xa4\\xbe \\xe0\\xa4\\xb8\\xe0\\xa5\\x80\\xe0\\xa4\\x96 \\xe0\\xa4\\xb0\\xe0\\xa4\\xb9\\xe0\\xa4\\xbe \\xe0\\xa4\\xb9\\xe0\\xa5\\x82\\xe0\\xa4\\x81'\n"
     ]
    }
   ],
   "source": [
    "unicode_text = u\"मैं पायथन प्रोग्रामिंग भाषा सीख रहा हूँ\"\n",
    "encoded_unicode_text = unicode_text.encode(\"utf-8\")\n",
    "print(encoded_unicode_text,end=\"\\n\\n\")\n",
    "\n",
    "w_file = open(\"w_file.txt\",\"wb\")\n",
    "w_file.write(encoded_unicode_text)\n",
    "w_file.close()\n",
    "\n",
    "r_file = open(\"w_file.txt\",\"rb\")\n",
    "data = r_file.read()\n",
    "print(data)"
   ]
  },
  {
   "cell_type": "markdown",
   "id": "7e0619bd",
   "metadata": {},
   "source": [
    "### 7. What qualifies ASCII text as a form of Unicode text?"
   ]
  },
  {
   "cell_type": "raw",
   "id": "e37d7db8",
   "metadata": {},
   "source": [
    "Unicode represents most written languages in the world. ASCII has its equivalent in Unicode. The difference between ASCII and Unicode is that ASCII represents lowercase letters (a-z), uppercase letters (A-Z), digits (0–9) and symbols such as punctuation marks while Unicode represents letters of English, Arabic, Greek etc. mathematical symbols, historical scripts, emoji covering a wide range of characters than ASCII."
   ]
  },
  {
   "cell_type": "markdown",
   "id": "7fa0fdb6",
   "metadata": {},
   "source": [
    "### 8. How much of an effect does the change in string types in Python 3.X have on your code ?"
   ]
  },
  {
   "cell_type": "raw",
   "id": "9d0666b4",
   "metadata": {},
   "source": [
    "Python 3 stores strings as Unicode by default whereas Python 2 requires you to mark a string with a u if you want to store it as Unicode. Unicode strings are more versatile than ASCII strings, which are the Python 3.X default, as they can store letters from foreign languages as well as emoji and the standard Roman letters and numerals."
   ]
  }
 ],
 "metadata": {
  "kernelspec": {
   "display_name": "Python 3 (ipykernel)",
   "language": "python",
   "name": "python3"
  },
  "language_info": {
   "codemirror_mode": {
    "name": "ipython",
    "version": 3
   },
   "file_extension": ".py",
   "mimetype": "text/x-python",
   "name": "python",
   "nbconvert_exporter": "python",
   "pygments_lexer": "ipython3",
   "version": "3.9.7"
  }
 },
 "nbformat": 4,
 "nbformat_minor": 5
}
