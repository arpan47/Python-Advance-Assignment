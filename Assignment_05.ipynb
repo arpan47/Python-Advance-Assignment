{
 "cells": [
  {
   "cell_type": "markdown",
   "id": "66df6c6c",
   "metadata": {},
   "source": [
    "<h1 align='center' style=\"background-color:RGB(255, 228, 145);\">Python Advance Assignment 5</h1>"
   ]
  },
  {
   "cell_type": "markdown",
   "id": "1ea21192",
   "metadata": {},
   "source": [
    "### 1. What is the meaning of multiple inheritance ?"
   ]
  },
  {
   "cell_type": "raw",
   "id": "f7e9ba57",
   "metadata": {},
   "source": [
    ".Inheritence is nothing but reusing the code of Parent class by the child class. Similary when a child class inherits its properties from multiple Parent classes this scenario is called Multiple Inheritence."
   ]
  },
  {
   "cell_type": "code",
   "execution_count": 21,
   "id": "e8567eae",
   "metadata": {},
   "outputs": [
    {
     "name": "stdout",
     "output_type": "stream",
     "text": [
      "father mother child\n"
     ]
    }
   ],
   "source": [
    "class Father:\n",
    "    def gene1(self):\n",
    "        return \"father\"\n",
    "class Mother:\n",
    "    def gene2(self):\n",
    "        return \"mother\"\n",
    "class Child(Father,Mother):\n",
    "    def gene3(self):\n",
    "        return \"child\"\n",
    "\n",
    "c1 = Child()\n",
    "print(c1.gene1(),c1.gene2(),c1.gene3())"
   ]
  },
  {
   "cell_type": "markdown",
   "id": "92d55762",
   "metadata": {},
   "source": [
    "### 2. What is the concept of delegation ?"
   ]
  },
  {
   "cell_type": "raw",
   "id": "90948bfd",
   "metadata": {},
   "source": [
    "Delegation is an object oriented technique (also called a design pattern). Let's say we have an object x and want to change the behaviour of just one of its methods. We can create a new class that provides a new implementation of the method we're interested in changing and delegates all other methods to the corresponding method of x.\n",
    "\n",
    "The delegation is accomplished via the getattr method."
   ]
  },
  {
   "cell_type": "code",
   "execution_count": 47,
   "id": "d57e9c12",
   "metadata": {},
   "outputs": [],
   "source": [
    "class UpperOut:\n",
    "\n",
    "    def __init__(self, outfile):\n",
    "        self._outfile = outfile\n",
    "\n",
    "    def write(self, s):\n",
    "        self._outfile.write(s.upper())\n",
    "\n",
    "    def __getattr__(self, name):\n",
    "        return getattr(self._outfile, name)"
   ]
  },
  {
   "cell_type": "markdown",
   "id": "837dbd9c",
   "metadata": {},
   "source": [
    "### 3. What is the concept of composition ?"
   ]
  },
  {
   "cell_type": "raw",
   "id": "acef343a",
   "metadata": {},
   "source": [
    "It is one of the fundamental concepts of Object-Oriented Programming. A class that references to one or more objects of other classes as an Instance variable. Here, by using the class name or by creating the object we can access the members of one class inside another class. It enables creating complex types by combining objects of different classes. It means that a class Composite can contain an object of another class Component. This type of relationship is known as Has-A Relation."
   ]
  },
  {
   "cell_type": "code",
   "execution_count": 49,
   "id": "7e779e32",
   "metadata": {},
   "outputs": [
    {
     "name": "stdout",
     "output_type": "stream",
     "text": [
      "Component class object created...\n",
      "Composite class object also created...\n",
      "Composite class m2() method executed...\n",
      "Component class m1() method executed...\n"
     ]
    }
   ],
   "source": [
    "class Component:\n",
    "  \n",
    "   # composite class constructor\n",
    "    def __init__(self):\n",
    "        print('Component class object created...')\n",
    "  \n",
    "    # composite class instance method\n",
    "    def m1(self):\n",
    "        print('Component class m1() method executed...')\n",
    "\n",
    "class Composite:\n",
    "  \n",
    "    # composite class constructor\n",
    "    def __init__(self):\n",
    "  \n",
    "        # creating object of component class\n",
    "        self.obj1 = Component()\n",
    "          \n",
    "        print('Composite class object also created...')\n",
    "  \n",
    "     # composite class instance method\n",
    "    def m2(self):\n",
    "        \n",
    "        print('Composite class m2() method executed...')\n",
    "  \n",
    "        # calling m1() method of component class\n",
    "        self.obj1.m1()\n",
    "\n",
    "# creating object of composite class\n",
    "obj2 = Composite()\n",
    "  \n",
    "# calling m2() method of composite class\n",
    "obj2.m2()"
   ]
  },
  {
   "cell_type": "markdown",
   "id": "5ca951b9",
   "metadata": {},
   "source": [
    "### 4. What are bound methods and how do we use them ?"
   ]
  },
  {
   "cell_type": "raw",
   "id": "c2fa3f67",
   "metadata": {},
   "source": [
    "A bound method is the one which is dependent on the instance of the class as the first argument. It passes the instance as the first argument which is used to access the variables and functions. In Python 3 and newer versions of python, all functions in the class are by default bound methods."
   ]
  },
  {
   "cell_type": "code",
   "execution_count": 52,
   "id": "dc8b18a8",
   "metadata": {},
   "outputs": [
    {
     "name": "stdout",
     "output_type": "stream",
     "text": [
      "<bound method Sample.fun of <__main__.Sample object at 0x000001ED04D6F3D0>>\n"
     ]
    }
   ],
   "source": [
    "class Sample:\n",
    "    def fun(self, some_value):\n",
    "        self.some_value = some_value\n",
    "    \n",
    "s = Sample()\n",
    "\n",
    "print(s.fun)"
   ]
  },
  {
   "cell_type": "markdown",
   "id": "f1e26506",
   "metadata": {},
   "source": [
    "### 5. What is the purpose of pseudoprivate attributes ?"
   ]
  },
  {
   "cell_type": "markdown",
   "id": "04f059af",
   "metadata": {},
   "source": [
    "Pseudoprivate attributes are also useful in larger frameworks or tools, both to avoid introducing new method names that might accidentally hide definitions elsewhere in the class tree and to reduce the chance of internal methods being replaced by names defined lower in the tree. If a method is intended for use only within a class that may be mixed into other classes, the double underscore prefix ensures that the method won't interfere with other names in the tree, especially in multiple-inheritance scenarios\n",
    "\n",
    "Pseudoprivate names also prevent subclasses from accidentally redefining the internal method's names,"
   ]
  },
  {
   "cell_type": "code",
   "execution_count": 53,
   "id": "6710d4ea",
   "metadata": {},
   "outputs": [
    {
     "name": "stdout",
     "output_type": "stream",
     "text": [
      "1\n",
      "2\n",
      "4\n"
     ]
    }
   ],
   "source": [
    "class Test:\n",
    "    def __init__(self, a, b, c, d):\n",
    "        self.__a = a # __ means pseudo private variable\n",
    "        self.b = b\n",
    "        self.c = c\n",
    "        self.d = d\n",
    "\n",
    "    def custom(self, v):\n",
    "        return v - self.__a\n",
    "\n",
    "t = Test(1,2,3,4)    \n",
    "print(t._Test__a) # this is the way to access Pseudo private  attribute\n",
    "print(t.b)\n",
    "print(t.custom(5))"
   ]
  },
  {
   "cell_type": "code",
   "execution_count": null,
   "id": "c76a864c",
   "metadata": {},
   "outputs": [],
   "source": []
  }
 ],
 "metadata": {
  "kernelspec": {
   "display_name": "Python 3 (ipykernel)",
   "language": "python",
   "name": "python3"
  },
  "language_info": {
   "codemirror_mode": {
    "name": "ipython",
    "version": 3
   },
   "file_extension": ".py",
   "mimetype": "text/x-python",
   "name": "python",
   "nbconvert_exporter": "python",
   "pygments_lexer": "ipython3",
   "version": "3.9.7"
  }
 },
 "nbformat": 4,
 "nbformat_minor": 5
}
