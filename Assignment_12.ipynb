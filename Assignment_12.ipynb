{
 "cells": [
  {
   "cell_type": "markdown",
   "id": "16257dd7",
   "metadata": {},
   "source": [
    "<h1 align='center' style=\"background-color:RGB(255, 228, 145);\">Python Advance Assignment 12</h1>"
   ]
  },
  {
   "cell_type": "markdown",
   "id": "08203dba",
   "metadata": {},
   "source": [
    "### 1. Does assigning a value to a string's indexed character violate Python's string immutability ?"
   ]
  },
  {
   "cell_type": "raw",
   "id": "cb535d6b",
   "metadata": {},
   "source": [
    "String’s indexed character cannot to be assigned a New value , as strings are immutable.  "
   ]
  },
  {
   "cell_type": "code",
   "execution_count": 6,
   "id": "3cdd469d",
   "metadata": {},
   "outputs": [
    {
     "name": "stdout",
     "output_type": "stream",
     "text": [
      "Arpan\n",
      "A\n"
     ]
    },
    {
     "ename": "TypeError",
     "evalue": "'str' object does not support item assignment",
     "output_type": "error",
     "traceback": [
      "\u001b[1;31m---------------------------------------------------------------------------\u001b[0m",
      "\u001b[1;31mTypeError\u001b[0m                                 Traceback (most recent call last)",
      "\u001b[1;32m~\\AppData\\Local\\Temp/ipykernel_2404/934431034.py\u001b[0m in \u001b[0;36m<module>\u001b[1;34m\u001b[0m\n\u001b[0;32m      2\u001b[0m \u001b[0mprint\u001b[0m\u001b[1;33m(\u001b[0m\u001b[0mname\u001b[0m\u001b[1;33m)\u001b[0m\u001b[1;33m\u001b[0m\u001b[1;33m\u001b[0m\u001b[0m\n\u001b[0;32m      3\u001b[0m \u001b[0mprint\u001b[0m\u001b[1;33m(\u001b[0m\u001b[0mname\u001b[0m\u001b[1;33m[\u001b[0m\u001b[1;36m0\u001b[0m\u001b[1;33m]\u001b[0m\u001b[1;33m)\u001b[0m\u001b[1;33m\u001b[0m\u001b[1;33m\u001b[0m\u001b[0m\n\u001b[1;32m----> 4\u001b[1;33m \u001b[0mname\u001b[0m\u001b[1;33m[\u001b[0m\u001b[1;36m0\u001b[0m\u001b[1;33m]\u001b[0m\u001b[1;33m=\u001b[0m \u001b[1;34m'R'\u001b[0m\u001b[1;33m\u001b[0m\u001b[1;33m\u001b[0m\u001b[0m\n\u001b[0m\u001b[0;32m      5\u001b[0m \u001b[0mprint\u001b[0m\u001b[1;33m(\u001b[0m\u001b[0mname\u001b[0m\u001b[1;33m)\u001b[0m\u001b[1;33m\u001b[0m\u001b[1;33m\u001b[0m\u001b[0m\n",
      "\u001b[1;31mTypeError\u001b[0m: 'str' object does not support item assignment"
     ]
    }
   ],
   "source": [
    "name = 'Arpan'\n",
    "print(name)\n",
    "print(name[0])\n",
    "name[0]= 'R'\n",
    "print(name)"
   ]
  },
  {
   "cell_type": "markdown",
   "id": "5f2bbf8f",
   "metadata": {},
   "source": [
    "### 2. Does using the += operator to concatenate strings violate Python's string immutability? Why or why not ?"
   ]
  },
  {
   "cell_type": "raw",
   "id": "db85b8d3",
   "metadata": {},
   "source": [
    "+= operator is used to concatenate strings, it does not violate Python’s string immutability property. Doing so creates a new association with data and variable."
   ]
  },
  {
   "cell_type": "code",
   "execution_count": 12,
   "id": "85e75136",
   "metadata": {},
   "outputs": [
    {
     "name": "stdout",
     "output_type": "stream",
     "text": [
      "1908289522608 Arpan\n",
      "1908289465520 Arpan Maity\n"
     ]
    }
   ],
   "source": [
    "nm1 = 'Arpan'\n",
    "print(id(nm1), nm1)\n",
    "nm1 += ' Maity'\n",
    "print(id(nm1), nm1) # Does not Modify existing string, Creates a New String Object"
   ]
  },
  {
   "cell_type": "markdown",
   "id": "3ffd40ae",
   "metadata": {},
   "source": [
    "### 3. In Python, how many different ways are there to index a character ?"
   ]
  },
  {
   "cell_type": "raw",
   "id": "72f393d0",
   "metadata": {},
   "source": [
    "A Character in string can be indexed using string name followed by index number of character in square bracket. Positive Indexing i.e. first index is 0 an so on, or Negative Indexing i.e. last letter is -1 and so on can be used to index a character."
   ]
  },
  {
   "cell_type": "code",
   "execution_count": 16,
   "id": "8b363c3b",
   "metadata": {},
   "outputs": [
    {
     "name": "stdout",
     "output_type": "stream",
     "text": [
      "U U\n",
      "l l\n",
      "t t\n",
      "r r\n",
      "o o\n",
      "n n\n"
     ]
    }
   ],
   "source": [
    "u = \"Ultron\"\n",
    "print(u[0],u[-6])\n",
    "print(u[1],u[-5])\n",
    "print(u[2],u[-4])\n",
    "print(u[3],u[-3])\n",
    "print(u[4],u[-2])\n",
    "print(u[5],u[-1])"
   ]
  },
  {
   "cell_type": "markdown",
   "id": "be6b245f",
   "metadata": {},
   "source": [
    "### 4. What is the relationship between indexing and slicing ?"
   ]
  },
  {
   "cell_type": "raw",
   "id": "f5994810",
   "metadata": {},
   "source": [
    "Indexing: Indexing is used to obtain individual elements.\n",
    "Slicing: Slicing is used to obtain a sequence of elements."
   ]
  },
  {
   "cell_type": "code",
   "execution_count": 19,
   "id": "1da25970",
   "metadata": {},
   "outputs": [
    {
     "name": "stdout",
     "output_type": "stream",
     "text": [
      "A\n",
      "Artificial\n"
     ]
    }
   ],
   "source": [
    "in_string = \"Artificial Intelligence is improving lives\"\n",
    "print(in_string[0])                        # Indexing\n",
    "print(in_string[:10])                      # Slicing"
   ]
  },
  {
   "cell_type": "markdown",
   "id": "58314b84",
   "metadata": {},
   "source": [
    "### 5. What is an indexed character's exact data type? What is the data form of a slicing-generated substring?"
   ]
  },
  {
   "cell_type": "raw",
   "id": "cdfcddb0",
   "metadata": {},
   "source": [
    "Data form of Indexed characters and slicing-generated substring is always String. "
   ]
  },
  {
   "cell_type": "code",
   "execution_count": 23,
   "id": "20fe9f03",
   "metadata": {},
   "outputs": [
    {
     "name": "stdout",
     "output_type": "stream",
     "text": [
      "<class 'str'> a\n",
      "<class 'str'> Artificial\n"
     ]
    }
   ],
   "source": [
    "in_string = \"Artificial Intelligence is improving lives\"\n",
    "print(type(in_string[8]), in_string[8])             # Indexing -> str\n",
    "print(type(in_string[0:10]), in_string[0:10])       # Indexing -> str"
   ]
  },
  {
   "cell_type": "markdown",
   "id": "01a42e5b",
   "metadata": {},
   "source": [
    "### 6. What is the relationship between string and character \"types\" in Python ?"
   ]
  },
  {
   "cell_type": "raw",
   "id": "4e5e604e",
   "metadata": {},
   "source": [
    "In Python, Strings are arrays of bytes representing Unicode characters. However, Python does not have a character data type, a single character is simply a string with a length of 1. Square brackets can be used to access elements of the string."
   ]
  },
  {
   "cell_type": "markdown",
   "id": "90eb84af",
   "metadata": {},
   "source": [
    "### 7. Identify at least two operators & one method that allow you to combine one or more smaller strings to create a larger string ?"
   ]
  },
  {
   "cell_type": "raw",
   "id": "2b84b4b7",
   "metadata": {},
   "source": [
    "+ , += and * allow to combine one or more smaller strings to create a larger string. join() method joins element of iterable type like list and tuple to get a combined string."
   ]
  },
  {
   "cell_type": "code",
   "execution_count": 29,
   "id": "064b196f",
   "metadata": {},
   "outputs": [
    {
     "name": "stdout",
     "output_type": "stream",
     "text": [
      "Arpan Maity XOXO\n",
      "lives lives lives \n",
      "A r T\n",
      "a r t\n"
     ]
    }
   ],
   "source": [
    "in_string = 'Arpan '\n",
    "in_string += 'Maity'\n",
    "print(in_string + ' XOXO')\n",
    "print('lives '*3)\n",
    "print(\" \".join(['A','r','T']))             # List Iterable\n",
    "print(\" \".join(('a','R','t')).lower())     # Tuple Iterable"
   ]
  },
  {
   "cell_type": "markdown",
   "id": "87d5ede0",
   "metadata": {},
   "source": [
    "### 8. What is the benefit of first checking the target string with in or not in before using the index method to find a substring ?"
   ]
  },
  {
   "cell_type": "raw",
   "id": "128815cb",
   "metadata": {},
   "source": [
    "Checking the target string with in or not operators before using the index method to find a substring just helps confirming availability of substring and thus avoid raising of ValueError."
   ]
  },
  {
   "cell_type": "code",
   "execution_count": 27,
   "id": "77f73c66",
   "metadata": {},
   "outputs": [
    {
     "name": "stdout",
     "output_type": "stream",
     "text": [
      "6\n"
     ]
    },
    {
     "ename": "ValueError",
     "evalue": "substring not found",
     "output_type": "error",
     "traceback": [
      "\u001b[1;31m---------------------------------------------------------------------------\u001b[0m",
      "\u001b[1;31mValueError\u001b[0m                                Traceback (most recent call last)",
      "\u001b[1;32m~\\AppData\\Local\\Temp/ipykernel_2404/2758004809.py\u001b[0m in \u001b[0;36m<module>\u001b[1;34m\u001b[0m\n\u001b[0;32m      1\u001b[0m \u001b[0min_string\u001b[0m \u001b[1;33m=\u001b[0m \u001b[1;34m\"Artificial\"\u001b[0m\u001b[1;33m\u001b[0m\u001b[1;33m\u001b[0m\u001b[0m\n\u001b[0;32m      2\u001b[0m \u001b[0mprint\u001b[0m\u001b[1;33m(\u001b[0m\u001b[0min_string\u001b[0m\u001b[1;33m.\u001b[0m\u001b[0mindex\u001b[0m\u001b[1;33m(\u001b[0m\u001b[1;34m'c'\u001b[0m\u001b[1;33m)\u001b[0m\u001b[1;33m)\u001b[0m\u001b[1;33m\u001b[0m\u001b[1;33m\u001b[0m\u001b[0m\n\u001b[1;32m----> 3\u001b[1;33m \u001b[0mprint\u001b[0m\u001b[1;33m(\u001b[0m\u001b[0min_string\u001b[0m\u001b[1;33m.\u001b[0m\u001b[0mindex\u001b[0m\u001b[1;33m(\u001b[0m\u001b[1;34m'm'\u001b[0m\u001b[1;33m)\u001b[0m\u001b[1;33m)\u001b[0m      \u001b[1;31m# Gives ValueError\u001b[0m\u001b[1;33m\u001b[0m\u001b[1;33m\u001b[0m\u001b[0m\n\u001b[0m",
      "\u001b[1;31mValueError\u001b[0m: substring not found"
     ]
    }
   ],
   "source": [
    "in_string = \"Artificial\"  \n",
    "print(in_string.index('c'))\n",
    "print(in_string.index('m'))      # Gives ValueError  "
   ]
  },
  {
   "cell_type": "markdown",
   "id": "aaf7229e",
   "metadata": {},
   "source": [
    "### 9. Which operators and built-in string methods produce simple Boolean (true/false) results ?"
   ]
  },
  {
   "cell_type": "raw",
   "id": "48ca7b2b",
   "metadata": {},
   "source": [
    "Operators for boolean result: AND, OR, NOT, < , > , <=, >=, ==\n",
    "Methods for boolean result: isalpha(),isdigit(),islower(),isupper(), isalnum(), isdecimal(), isnumeric() etc."
   ]
  }
 ],
 "metadata": {
  "kernelspec": {
   "display_name": "Python 3 (ipykernel)",
   "language": "python",
   "name": "python3"
  },
  "language_info": {
   "codemirror_mode": {
    "name": "ipython",
    "version": 3
   },
   "file_extension": ".py",
   "mimetype": "text/x-python",
   "name": "python",
   "nbconvert_exporter": "python",
   "pygments_lexer": "ipython3",
   "version": "3.9.7"
  }
 },
 "nbformat": 4,
 "nbformat_minor": 5
}
