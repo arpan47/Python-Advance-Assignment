{
 "cells": [
  {
   "cell_type": "markdown",
   "id": "66df6c6c",
   "metadata": {},
   "source": [
    "<h1 align='center' style=\"background-color:RGB(255, 228, 145);\">Python Advance Assignment 3</h1>"
   ]
  },
  {
   "cell_type": "markdown",
   "id": "d0d8c370",
   "metadata": {},
   "source": [
    "### 1. What is the concept of an abstract superclass ?"
   ]
  },
  {
   "cell_type": "raw",
   "id": "d7772134",
   "metadata": {},
   "source": [
    "A class is called an Abstract class if it contains one or more abstract methods. An abstract method is a method that is declared, but contains no implementation. Abstract classes may not be instantiated, and its abstract methods must be implemented by its subclasses.\n",
    "\n",
    "If we don't implement the method which was present in the abstract class. It will throw error \"TypeError: Can't instantiate abstract class car with abstract method name\"."
   ]
  },
  {
   "cell_type": "code",
   "execution_count": 2,
   "id": "00e14ca4",
   "metadata": {},
   "outputs": [
    {
     "name": "stdout",
     "output_type": "stream",
     "text": [
      "Lamborghini\n"
     ]
    }
   ],
   "source": [
    "from abc import ABC, abstractmethod\n",
    "class vehicle(ABC): # Abstract Class\n",
    "    @abstractmethod\n",
    "    def name(self): # Abstract Method\n",
    "        pass\n",
    "    \n",
    "class car(vehicle):\n",
    "    def name(self):  # overriding abstract method in child class car\n",
    "        print(\"Lamborghini\")\n",
    "c = car()\n",
    "c.name()"
   ]
  },
  {
   "cell_type": "markdown",
   "id": "23dee9dc",
   "metadata": {},
   "source": [
    "### 2. What happens when a class statement's top level contains a basic assignment statement ?"
   ]
  },
  {
   "cell_type": "raw",
   "id": "5463a61d",
   "metadata": {},
   "source": [
    "When a Class statement's top level contains a basic assignment statement, its usually treated as a class attribute or class level variable, whereas assignment statements inside methods are treated as instance attributes or local attributes.\n",
    "Whenever object was initialized, class attributes is maintained and shared to all instances of class. where as each instance object maintains its own copy of instance variables."
   ]
  },
  {
   "cell_type": "code",
   "execution_count": 5,
   "id": "c5d88b4d",
   "metadata": {},
   "outputs": [],
   "source": [
    "class Vehicle:\n",
    "    type = '4-wheeler' # class attribute \n",
    "    def __init__(self,model,price):\n",
    "        self.model = model # instance attributes\n",
    "        self.price = price"
   ]
  },
  {
   "cell_type": "markdown",
   "id": "fc05a38c",
   "metadata": {},
   "source": [
    "### 3. Why does a class need to manually call a superclass's __init__ method ?"
   ]
  },
  {
   "cell_type": "raw",
   "id": "79d750e1",
   "metadata": {},
   "source": [
    "The __init__ method is called as constructor. If a child class has __init__ method, then it will not inherit the __init__ method of the parent class. We have to manually call a parent superclass's __init__ using super() method."
   ]
  },
  {
   "cell_type": "code",
   "execution_count": 15,
   "id": "d30162f0",
   "metadata": {},
   "outputs": [
    {
     "name": "stdout",
     "output_type": "stream",
     "text": [
      "{'model': 'Safari', 'price': 2000000, 'color': 'White'}\n"
     ]
    }
   ],
   "source": [
    "class Vehicle:\n",
    "    def __init__(self,model,price):\n",
    "        self.model = model\n",
    "        self.price = price\n",
    "        \n",
    "class car(Vehicle):\n",
    "    def __init__(self,model,price,color):\n",
    "        super().__init__(model,price)\n",
    "        self.color = color\n",
    "        \n",
    "car_1 = car('Safari',2000000,'White')\n",
    "print(car_1.__dict__)"
   ]
  },
  {
   "cell_type": "markdown",
   "id": "e751e221",
   "metadata": {},
   "source": [
    "### 4. How can you augment, instead of completely replacing, an inherited method ?"
   ]
  },
  {
   "cell_type": "raw",
   "id": "931e325e",
   "metadata": {},
   "source": [
    "super() method can be used to augment, instead of completely replacing, an inherited method."
   ]
  },
  {
   "cell_type": "code",
   "execution_count": 7,
   "id": "437bf527",
   "metadata": {},
   "outputs": [
    {
     "name": "stdout",
     "output_type": "stream",
     "text": [
      "Class Vehicle Called\n",
      "Class Vehicle Called\n",
      "Class Car Called\n"
     ]
    }
   ],
   "source": [
    "class Vehicle:\n",
    "    def __init__(self,model,engine_cc):\n",
    "        self.model = model\n",
    "        self.engine_cc = engine_cc\n",
    "        print(\"Class Vehicle Called\")\n",
    "        \n",
    "class Car(Vehicle):\n",
    "    def __init__(self,model,engine_cc,color):              # augmenting update() method\n",
    "        super().__init__(model,engine_cc)                  # 1st way to call base class method\n",
    "        Vehicle.__init__(self,model,engine_cc)             # 2nd way to call base class method\n",
    "        self.color = color\n",
    "        print(\"Class Car Called\")\n",
    "        \n",
    "car_1 = Car('Safari',1956,'White')     "
   ]
  },
  {
   "cell_type": "markdown",
   "id": "4c81d954",
   "metadata": {},
   "source": [
    "### 5. How is the local scope of a class different from that of a function ?"
   ]
  },
  {
   "cell_type": "raw",
   "id": "95bf91f1",
   "metadata": {},
   "source": [
    "A Variable which is defined inside a function is local to that function. it is accesible from the point at which it is defined until the end of the function, and exists for as long as the function is existing.\n",
    "\n",
    "Similary a variable inside of a class also has a local variable scope. Variables which are defined in the class body (but outside all methods) are called as class level variables or class attributes. they can be referenced by there bare names within the same scope, but they can also be accessed from outside this scope if we use the attribute access operator (.). on a class or an instance of the class."
   ]
  }
 ],
 "metadata": {
  "kernelspec": {
   "display_name": "Python 3 (ipykernel)",
   "language": "python",
   "name": "python3"
  },
  "language_info": {
   "codemirror_mode": {
    "name": "ipython",
    "version": 3
   },
   "file_extension": ".py",
   "mimetype": "text/x-python",
   "name": "python",
   "nbconvert_exporter": "python",
   "pygments_lexer": "ipython3",
   "version": "3.9.7"
  }
 },
 "nbformat": 4,
 "nbformat_minor": 5
}
