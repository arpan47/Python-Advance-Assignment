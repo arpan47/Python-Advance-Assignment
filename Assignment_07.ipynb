{
 "cells": [
  {
   "cell_type": "markdown",
   "id": "d7aaf696",
   "metadata": {},
   "source": [
    "<h1 align='center' style=\"background-color:RGB(255, 228, 145);\">Python Advance Assignment 7</h1>"
   ]
  },
  {
   "cell_type": "markdown",
   "id": "7044e24e",
   "metadata": {},
   "source": [
    "### 1. What is the purpose of the try statement ?"
   ]
  },
  {
   "cell_type": "raw",
   "id": "d5a6a665",
   "metadata": {},
   "source": [
    "try statement is used for exception handling in python. it consists of a block of risky statements which might cause an exception during runtime. if code within try block raises exception, then the exception will be reverted to the corresponding except block if multiple except blocks are present, else it willbe reverted to the default except block. In short try and except in union avoid programs from crashing during runtime due to exceptions."
   ]
  },
  {
   "cell_type": "code",
   "execution_count": 9,
   "id": "72d89888",
   "metadata": {},
   "outputs": [
    {
     "name": "stdout",
     "output_type": "stream",
     "text": [
      "<class 'ZeroDivisionError'>\n"
     ]
    }
   ],
   "source": [
    "try:\n",
    "    print(1/0)\n",
    "except Exception as e:\n",
    "    print(e.__class__)"
   ]
  },
  {
   "cell_type": "markdown",
   "id": "cabd7392",
   "metadata": {},
   "source": [
    "### 2. What are the two most popular try statement variations ?"
   ]
  },
  {
   "cell_type": "raw",
   "id": "a809d31d",
   "metadata": {},
   "source": [
    "The Popular try statement variations are:\n",
    "\n",
    "1. try,except\n",
    "2. try,except,finally\n",
    "3. try,except,finally,else\n",
    "\n",
    "The try block is used to check code for exceptions during runtime. ie code inside try block will execute completely when there is no error in the program. Whereas the code inside except block will execute whenever the program encounters some error in the preceeding try block.\n",
    "\n",
    "Whereas the code enters the else block if and only if the try clause does not raise and exception. The code in the finally block will execute irrespective of exception."
   ]
  },
  {
   "cell_type": "markdown",
   "id": "3e603533",
   "metadata": {},
   "source": [
    "### 3. What is the purpose of the raise statement ?"
   ]
  },
  {
   "cell_type": "raw",
   "id": "fc0cd9de",
   "metadata": {},
   "source": [
    "raise statement is used to trigger an exception explicitly, if a certain condition is not as per requirement of programmer. raise statement helps in triggering exception as per programming logic."
   ]
  },
  {
   "cell_type": "markdown",
   "id": "0c4ed237",
   "metadata": {},
   "source": [
    "### 4. What does the assert statement do, and what other statement is it like ?"
   ]
  },
  {
   "cell_type": "raw",
   "id": "c1e8dc59",
   "metadata": {},
   "source": [
    "There are few assertions that programmer always want to be true to avoid code failure. This type of requirement is fulfilled by assert statement. This statement takes a boolean condition output of which is True, Further Program Executes. if output of assert statement is False, it raises an Assertion Error."
   ]
  },
  {
   "cell_type": "code",
   "execution_count": 3,
   "id": "6df3fe6c",
   "metadata": {},
   "outputs": [],
   "source": [
    "assert(56 == 56), f'This is not a valid statement, kindly check.'"
   ]
  },
  {
   "cell_type": "markdown",
   "id": "fa9d9f04",
   "metadata": {},
   "source": [
    "### 5. What is the purpose of the with/as argument, and what other statement is it like ?"
   ]
  },
  {
   "cell_type": "raw",
   "id": "9e4c537c",
   "metadata": {},
   "source": [
    "with/as statement simplifies use of file handling in python. When we use a with statement for file reading, there is no need for programmer to explicitly takecare of activities like resource deallocation and file closing by using file.close() method. with statement itself ensures proper acquisition and release of resources. this avoids triggering of exceptions if file closing is unknowingly forgotten in the code execution."
   ]
  },
  {
   "cell_type": "code",
   "execution_count": 15,
   "id": "5633c7bc",
   "metadata": {},
   "outputs": [],
   "source": [
    "with open('test.txt','w') as file:\n",
    "    file.write('Multiverse Madness')"
   ]
  },
  {
   "cell_type": "code",
   "execution_count": 16,
   "id": "105db468",
   "metadata": {},
   "outputs": [
    {
     "name": "stdout",
     "output_type": "stream",
     "text": [
      "Multiverse Madness\n"
     ]
    }
   ],
   "source": [
    "with open('test.txt','r') as file1:\n",
    "    print(file1.read())"
   ]
  }
 ],
 "metadata": {
  "kernelspec": {
   "display_name": "Python 3 (ipykernel)",
   "language": "python",
   "name": "python3"
  },
  "language_info": {
   "codemirror_mode": {
    "name": "ipython",
    "version": 3
   },
   "file_extension": ".py",
   "mimetype": "text/x-python",
   "name": "python",
   "nbconvert_exporter": "python",
   "pygments_lexer": "ipython3",
   "version": "3.9.7"
  }
 },
 "nbformat": 4,
 "nbformat_minor": 5
}
