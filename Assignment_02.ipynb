{
 "cells": [
  {
   "cell_type": "markdown",
   "id": "66df6c6c",
   "metadata": {},
   "source": [
    "<h1 align='center' style=\"background-color:RGB(255, 228, 145);\">Python Advance Assignment 2</h1>"
   ]
  },
  {
   "cell_type": "markdown",
   "id": "ac127e05",
   "metadata": {},
   "source": [
    "### 1. What is the relationship between classes and modules ?"
   ]
  },
  {
   "cell_type": "raw",
   "id": "5a3d1316",
   "metadata": {},
   "source": [
    "A Python class is like an outline/blueprint/mold for creating a new object. An object is anything that you wish to manipulate or change while working through the code. Every time a class object is instantiated, which is when we declare a variable, a new object is initiated from scratch.\n",
    "\n",
    "Whereas in Python, Modules are simply files with the '. py' extension containing Python code that can be imported inside another Python Program. In simple terms, we can consider a module to be the same as a code library or a file that contains a set of functions/Classes that you want to include in your application."
   ]
  },
  {
   "cell_type": "markdown",
   "id": "44f0944c",
   "metadata": {},
   "source": [
    "### 2. How do you make instances and classes ?"
   ]
  },
  {
   "cell_type": "raw",
   "id": "a4320e4e",
   "metadata": {},
   "source": [
    "For creating instances of a class, we call the class using class name and pass in whatever arguments its __init__ method accepts.\n",
    "example : <obj_name> = <class_name>(<instance variable>,<instance variable>,......)\n",
    "Whereas for creating a class, we use the Class keyword.\n",
    "example : class <class_name>:"
   ]
  },
  {
   "cell_type": "code",
   "execution_count": 9,
   "id": "9e4be68a",
   "metadata": {},
   "outputs": [],
   "source": [
    "class employee:\n",
    "    def __init__(self, gender,salary):\n",
    "        self.gender = gender\n",
    "        self.salary = salary\n",
    "        \n",
    "    def get_gender(self):\n",
    "        return self.gender\n",
    "    \n",
    "    def get_salary(self):\n",
    "        return self.salary"
   ]
  },
  {
   "cell_type": "code",
   "execution_count": 10,
   "id": "9c6e62e9",
   "metadata": {},
   "outputs": [
    {
     "name": "stdout",
     "output_type": "stream",
     "text": [
      "Male\n",
      "50000\n"
     ]
    }
   ],
   "source": [
    "arpan = employee('Male',50000)\n",
    "print(arpan.get_gender())\n",
    "print(arpan.get_salary())"
   ]
  },
  {
   "cell_type": "markdown",
   "id": "6e64854e",
   "metadata": {},
   "source": [
    "### 3. Where and how should be class attributes created ?"
   ]
  },
  {
   "cell_type": "raw",
   "id": "97a26e15",
   "metadata": {},
   "source": [
    "Class attributes or Class level Attributes belong to the class itself, these attributes will be shared by all the instances of the class. Hence these attributes are usually created/defined in the top of class definiation outside all methods.\n",
    "\n",
    "Example: In the below code we are defining a class attribute called wheels which will be shared by all the instances of the class Vehicle"
   ]
  },
  {
   "cell_type": "code",
   "execution_count": 11,
   "id": "acbeff82",
   "metadata": {},
   "outputs": [],
   "source": [
    "class Vehicle:\n",
    "    wheels = 4;\n",
    "    def __init__(self,typ,color,price,engine):\n",
    "        self.type = _typ\n",
    "        self.color = color \n",
    "        self.price = price\n",
    "        self.engine = engine"
   ]
  },
  {
   "cell_type": "markdown",
   "id": "33089e93",
   "metadata": {},
   "source": [
    "### 4. Where and how are instance attributes created ?"
   ]
  },
  {
   "cell_type": "raw",
   "id": "5f1ad1e5",
   "metadata": {},
   "source": [
    "Instances attributes are passed to the class when an object of the class is created. Unlike class attributes, instance attributes are not shared by all objects of the classs. instead each object maintains its own copy of instance attributes at object level. whereas incase of class attributes all instances of class refer to a single copy. Usually instance attributes are defined within the \"__init__\" method of class\n",
    "\n",
    "Example: In the below sample code we are creating a class Car with instance varaibles color, price, engine, which will be provided when an instance of class Car is created. And car and truck are both the instances of class Vehicle with different instance variables."
   ]
  },
  {
   "cell_type": "code",
   "execution_count": 12,
   "id": "5eb5166a",
   "metadata": {},
   "outputs": [],
   "source": [
    "class Vehicle:\n",
    "    wheels = 4; # this is a class attribute\n",
    "    def __init__(self,typ,color,price,engine):\n",
    "        self.type = typ    # All these are instance attributes\n",
    "        self.color = color \n",
    "        self.price = price\n",
    "        self.engine = engine\n",
    "        \n",
    "car = Vehicle('sedan','Indigo Blue', 1400000, 'petrol')\n",
    "truck = Vehicle('commercial','Red',2800000, 'diesel')"
   ]
  },
  {
   "cell_type": "markdown",
   "id": "41635344",
   "metadata": {},
   "source": [
    "### 5. What does the term \"self\" in a Python class mean ?"
   ]
  },
  {
   "cell_type": "markdown",
   "id": "0ed28045",
   "metadata": {},
   "source": [
    "\"self\" represents the instance of the class. By using the “self” keyword we can access the attributes and methods of the class in python. It binds the attributes with the given arguments. The reason you need to use self"
   ]
  },
  {
   "cell_type": "markdown",
   "id": "bc2ac8c8",
   "metadata": {},
   "source": [
    "### 6. How does a Python class handle operator overloading ?"
   ]
  },
  {
   "cell_type": "raw",
   "id": "88b17b4f",
   "metadata": {},
   "source": [
    "The operator overloading in Python means provide extended meaning beyond their predefined operational meaning."
   ]
  },
  {
   "cell_type": "code",
   "execution_count": 13,
   "id": "c90e0f79",
   "metadata": {},
   "outputs": [
    {
     "name": "stdout",
     "output_type": "stream",
     "text": [
      "Arpan\n",
      "80\n"
     ]
    }
   ],
   "source": [
    "class over:\n",
    "    def __init__(self, a):\n",
    "        self.a = a\n",
    "\n",
    "    def __add__(self, o):\n",
    "        return self.a + o.a\n",
    "    \n",
    "a = over(\"Arp\")\n",
    "b = over(\"an\")\n",
    "print(a+b)                    # string concatenation    \n",
    "c = over(25)\n",
    "d = over(55)\n",
    "print(c+d)                    # addition for number"
   ]
  },
  {
   "cell_type": "markdown",
   "id": "6399e0d5",
   "metadata": {},
   "source": [
    "### 7. When do you consider allowing operator overloading of your classes ?"
   ]
  },
  {
   "cell_type": "raw",
   "id": "f870ec07",
   "metadata": {},
   "source": [
    "It provides reusability, instead of writing multiple methods that differ slightly we can simply write one method and overload it.\n",
    "It also improves code clarity and eliminates complexity.\n",
    "It makes code concise and simple to understand."
   ]
  },
  {
   "cell_type": "markdown",
   "id": "0cd1ea24",
   "metadata": {},
   "source": [
    "### 8. What is the most popular form of operator overloading?"
   ]
  },
  {
   "cell_type": "raw",
   "id": "b24e7a64",
   "metadata": {},
   "source": [
    "A very popular and convenient example is the Addition (+) operator. the '+' operator operates on two numbers and the same operator operates on two strings. It performs “Addition” on numbers whereas it performs “Concatenation” on strings."
   ]
  },
  {
   "cell_type": "markdown",
   "id": "ae6f4f52",
   "metadata": {},
   "source": [
    "### 9. What are the two most important concepts to grasp in order to comprehend Python OOP code ?"
   ]
  },
  {
   "cell_type": "raw",
   "id": "00afb1d4",
   "metadata": {},
   "source": [
    "Inheritance, Encapsulation, Polymorphism, and Data abstraction"
   ]
  }
 ],
 "metadata": {
  "kernelspec": {
   "display_name": "Python 3 (ipykernel)",
   "language": "python",
   "name": "python3"
  },
  "language_info": {
   "codemirror_mode": {
    "name": "ipython",
    "version": 3
   },
   "file_extension": ".py",
   "mimetype": "text/x-python",
   "name": "python",
   "nbconvert_exporter": "python",
   "pygments_lexer": "ipython3",
   "version": "3.9.7"
  }
 },
 "nbformat": 4,
 "nbformat_minor": 5
}
