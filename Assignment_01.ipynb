{
 "cells": [
  {
   "cell_type": "markdown",
   "id": "4a6c5b9f",
   "metadata": {},
   "source": [
    "<h1 align='center' style=\"background-color:RGB(255, 228, 145);\">Python Advance Assignment 1</h1>"
   ]
  },
  {
   "cell_type": "markdown",
   "id": "6d021589",
   "metadata": {},
   "source": [
    "### 1. What is the purpose of Python's OOP ?"
   ]
  },
  {
   "cell_type": "raw",
   "id": "ff59be07",
   "metadata": {},
   "source": [
    "Object-oriented programming is a programming paradigm that provides a means of structuring programs so that properties and behaviours are bundled into individual objects.\n",
    "\n",
    "1. In Python, object-oriented Programming (OOPs) uses object and class in programming.\n",
    "2. It aims to implement real-world entities like inheritance, polymorphisms, encapsulation etc. in the programming.\n",
    "3. The main concept of OOPs is to bind the data and the functions that work on that together as a single unit so that no other part of the code can access this data.\n",
    "4. It helps to divide our over all program into different small segments and thus making it solving easy with the use of objects\n",
    "5. Helps to easily maintain and modify any existing program.\n",
    "6. Multiple instances of an object can be made."
   ]
  },
  {
   "cell_type": "markdown",
   "id": "f930e0ae",
   "metadata": {},
   "source": [
    "### 2. Where does an inheritance search look for an attribute ?"
   ]
  },
  {
   "cell_type": "raw",
   "id": "8af58a67",
   "metadata": {},
   "source": [
    "An inheritance search looks for an attribute in the instance first, then it looks in the class of the instance, if there are superclasses, then it will look in the superclasses strating from bottom to top of the object tree and from left to right order. Whenever the first attribute is found, the search stops."
   ]
  },
  {
   "cell_type": "markdown",
   "id": "7c148777",
   "metadata": {},
   "source": [
    "### 3. How do you distinguish between a class object and an instance object ?"
   ]
  },
  {
   "cell_type": "raw",
   "id": "22d26b9a",
   "metadata": {},
   "source": [
    "The differences between a class object and an instance object are:\n",
    "1. Class is a template for creating objects whereas object is an instance of class\n",
    "2. Seperate memory is allocated for each object whenever an object is created. but for a class this doesnot happens.\n",
    "3. A Class is created once. Many objects are created using that class.\n",
    "4. As Classes have no allocated memory. they can't be manipulated. but objects can be manipulated."
   ]
  },
  {
   "cell_type": "markdown",
   "id": "0f758fc9",
   "metadata": {},
   "source": [
    "### 4. What makes the first argument in a class’s method function special ?"
   ]
  },
  {
   "cell_type": "raw",
   "id": "d9c3056e",
   "metadata": {},
   "source": [
    "Python Classes usually have three types of methods which are:\n",
    "- Instance Methods (object level methods)\n",
    "- Class Methods (class level methods)\n",
    "- Static Methods (general utility methods)\n",
    "- \"self\" represents the instance of a class\n",
    "- \"cls\" refers to the class variable."
   ]
  },
  {
   "cell_type": "markdown",
   "id": "94b70070",
   "metadata": {},
   "source": [
    "### 5. What is the purpose of the __init__ method ?"
   ]
  },
  {
   "cell_type": "raw",
   "id": "90afc5cb",
   "metadata": {},
   "source": [
    "\"__init__\" is a reseved method in python classes. It serves the role of a constructor in object oriented terminology. This method is called when an object is created from a class and it allows the class to initialize the attributes of the class."
   ]
  },
  {
   "cell_type": "markdown",
   "id": "913bfc63",
   "metadata": {},
   "source": [
    "### 6. What is the process for creating a class instance ?"
   ]
  },
  {
   "cell_type": "raw",
   "id": "658f4302",
   "metadata": {},
   "source": [
    "To create a class instance, we need to call the class by its name and pass the arguments to the class, which its \"__init__\" method accepts."
   ]
  },
  {
   "cell_type": "markdown",
   "id": "4c64a33d",
   "metadata": {},
   "source": [
    "### 7. What is the process for creating a class ?"
   ]
  },
  {
   "cell_type": "raw",
   "id": "82e18b08",
   "metadata": {},
   "source": [
    "class keyword is used to created a class in python. The syntax to create a class in python is class <classname>:"
   ]
  },
  {
   "cell_type": "code",
   "execution_count": 4,
   "id": "13ebfdb8",
   "metadata": {},
   "outputs": [],
   "source": [
    "class Person:  \n",
    "        \n",
    "    def __init__(self, name):  \n",
    "        self.name = name  \n",
    "        \n",
    "    def say_hi(self):  \n",
    "        print('Hello, My Name is', self.name)"
   ]
  },
  {
   "cell_type": "code",
   "execution_count": 5,
   "id": "29b4942d",
   "metadata": {},
   "outputs": [
    {
     "name": "stdout",
     "output_type": "stream",
     "text": [
      "Hello, My Name is Arpan Maity\n"
     ]
    }
   ],
   "source": [
    "p = Person('Arpan Maity')  \n",
    "p.say_hi()"
   ]
  },
  {
   "cell_type": "markdown",
   "id": "134309de",
   "metadata": {},
   "source": [
    "### 8. How would you define the superclasses of a class ?"
   ]
  },
  {
   "cell_type": "raw",
   "id": "d39b9e49",
   "metadata": {},
   "source": [
    "The class from which a class inherits is called the parent class or super class. A class which inherits from a superclass is called a subclass, also called heir class or child class. Superclasses are sometimes called ancestors as well"
   ]
  }
 ],
 "metadata": {
  "kernelspec": {
   "display_name": "Python 3 (ipykernel)",
   "language": "python",
   "name": "python3"
  },
  "language_info": {
   "codemirror_mode": {
    "name": "ipython",
    "version": 3
   },
   "file_extension": ".py",
   "mimetype": "text/x-python",
   "name": "python",
   "nbconvert_exporter": "python",
   "pygments_lexer": "ipython3",
   "version": "3.9.7"
  }
 },
 "nbformat": 4,
 "nbformat_minor": 5
}
