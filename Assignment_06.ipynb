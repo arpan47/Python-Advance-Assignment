{
 "cells": [
  {
   "cell_type": "markdown",
   "id": "0edb4d53",
   "metadata": {},
   "source": [
    "<h1 align='center' style=\"background-color:RGB(255, 228, 145);\">Python Advance Assignment 6</h1>"
   ]
  },
  {
   "cell_type": "markdown",
   "id": "4c4c1b8d",
   "metadata": {},
   "source": [
    "### 1. Describe three applications for exception processing."
   ]
  },
  {
   "cell_type": "raw",
   "id": "e1da4ad0",
   "metadata": {},
   "source": [
    "Exception Processing is important to find exceptions that causes the runtime error. As runtime errors halt the program execution when exception occurs.\n",
    "\n",
    "Exception processing is useful for;\n",
    "- error handling,\n",
    "- termination actions, \n",
    "- event notification. \n",
    "- i/o handling"
   ]
  },
  {
   "cell_type": "code",
   "execution_count": 39,
   "id": "72db397f",
   "metadata": {},
   "outputs": [
    {
     "name": "stdout",
     "output_type": "stream",
     "text": [
      "<class 'ZeroDivisionError'>division by zero\n",
      "<class 'ValueError'>invalid literal for int() with base 10: 'arpan'\n",
      "<class 'FileNotFoundError'>[Errno 2] No such file or directory: 'geeks.txt'\n",
      "<class 'io.UnsupportedOperation'>not writable\n"
     ]
    }
   ],
   "source": [
    "def div(a,b):\n",
    "    try:\n",
    "        return(int(a)/int(b))   \n",
    "    except Exception as e:      \n",
    "        return str(e.__class__)+str(e)\n",
    "\n",
    "def file_open(ff):\n",
    "    try:\n",
    "        file = open(ff,'r')\n",
    "        file.close()\n",
    "    except Exception as e:\n",
    "        return str(e.__class__)+str(e)\n",
    "\n",
    "def file_write(ff1):\n",
    "    try:\n",
    "        file = open(ff1,'r')\n",
    "        file.write(\"Arpan Maity\")\n",
    "        file.close()\n",
    "    except Exception as e:\n",
    "        return str(e.__class__)+str(e)\n",
    "    \n",
    "print(div(1,0))\n",
    "print(div(1,\"arpan\"))\n",
    "print(file_open(\"geeks.txt\"))\n",
    "print(file_write(\"geek.txt\"))"
   ]
  },
  {
   "cell_type": "markdown",
   "id": "f87764a2",
   "metadata": {},
   "source": [
    "### 2. What happens if you don't do something extra to treat an exception ?"
   ]
  },
  {
   "cell_type": "raw",
   "id": "5d7ba69a",
   "metadata": {},
   "source": [
    "If exceptions are not handled flow of program will throw error during the run time which might lead to a abnormal termination of the program. Inshort inability of program to handle exceptions will result in crashing or sudden shutdown of program."
   ]
  },
  {
   "cell_type": "markdown",
   "id": "aa342076",
   "metadata": {},
   "source": [
    "### 3. What are your options for recovering from an exception in your script ?"
   ]
  },
  {
   "cell_type": "raw",
   "id": "4cfa4fd6",
   "metadata": {},
   "source": [
    "Python provides try and except statements for recovering from an exception in script."
   ]
  },
  {
   "cell_type": "markdown",
   "id": "7a9afd75",
   "metadata": {},
   "source": [
    "### 4. Describe two methods for triggering exceptions in your script ?"
   ]
  },
  {
   "cell_type": "raw",
   "id": "57423a9c",
   "metadata": {},
   "source": [
    "raise and assert are two methods that can be used to trigger manual exceptions in your script.\n",
    "\n",
    "raise method triggers an exception if condition provided to it turns out to be True.\n",
    "assert will let the program to continue execution if condition provided to it turns out to be True else exception will be raised"
   ]
  },
  {
   "cell_type": "code",
   "execution_count": 4,
   "id": "55ca2b5b",
   "metadata": {},
   "outputs": [
    {
     "name": "stdout",
     "output_type": "stream",
     "text": [
      "12\n"
     ]
    },
    {
     "ename": "Exception",
     "evalue": "The value of X cant be greater than 10, but X = {x}",
     "output_type": "error",
     "traceback": [
      "\u001b[1;31m---------------------------------------------------------------------------\u001b[0m",
      "\u001b[1;31mException\u001b[0m                                 Traceback (most recent call last)",
      "\u001b[1;32m~\\AppData\\Local\\Temp/ipykernel_11976/2922999955.py\u001b[0m in \u001b[0;36m<module>\u001b[1;34m\u001b[0m\n\u001b[0;32m      2\u001b[0m \u001b[0mx\u001b[0m \u001b[1;33m=\u001b[0m \u001b[0mint\u001b[0m\u001b[1;33m(\u001b[0m\u001b[0minput\u001b[0m\u001b[1;33m(\u001b[0m\u001b[1;33m)\u001b[0m\u001b[1;33m)\u001b[0m\u001b[1;33m\u001b[0m\u001b[1;33m\u001b[0m\u001b[0m\n\u001b[0;32m      3\u001b[0m \u001b[1;32mif\u001b[0m \u001b[1;33m(\u001b[0m\u001b[0mx\u001b[0m \u001b[1;33m>\u001b[0m \u001b[1;36m10\u001b[0m\u001b[1;33m)\u001b[0m\u001b[1;33m:\u001b[0m\u001b[1;33m\u001b[0m\u001b[1;33m\u001b[0m\u001b[0m\n\u001b[1;32m----> 4\u001b[1;33m     \u001b[1;32mraise\u001b[0m \u001b[0mException\u001b[0m\u001b[1;33m(\u001b[0m\u001b[1;34mf'The value of X can'\u001b[0m\u001b[1;34m't be greater than 10, but X = {x}'\u001b[0m\u001b[1;33m)\u001b[0m\u001b[1;33m\u001b[0m\u001b[1;33m\u001b[0m\u001b[0m\n\u001b[0m",
      "\u001b[1;31mException\u001b[0m: The value of X cant be greater than 10, but X = {x}"
     ]
    }
   ],
   "source": [
    "# Example of raise\n",
    "x = int(input())\n",
    "if (x > 10):\n",
    "    raise Exception(f'The value of X can''t be greater than 10, but X = {x}')"
   ]
  },
  {
   "cell_type": "code",
   "execution_count": 6,
   "id": "b9bfe958",
   "metadata": {},
   "outputs": [
    {
     "name": "stdout",
     "output_type": "stream",
     "text": [
      "34\n",
      "56\n"
     ]
    },
    {
     "ename": "AssertionError",
     "evalue": "Both Values are not same, values are 34,56",
     "output_type": "error",
     "traceback": [
      "\u001b[1;31m---------------------------------------------------------------------------\u001b[0m",
      "\u001b[1;31mAssertionError\u001b[0m                            Traceback (most recent call last)",
      "\u001b[1;32m~\\AppData\\Local\\Temp/ipykernel_11672/2577503268.py\u001b[0m in \u001b[0;36m<module>\u001b[1;34m\u001b[0m\n\u001b[0;32m      2\u001b[0m \u001b[0mi1\u001b[0m \u001b[1;33m=\u001b[0m \u001b[0mint\u001b[0m\u001b[1;33m(\u001b[0m\u001b[0minput\u001b[0m\u001b[1;33m(\u001b[0m\u001b[1;33m)\u001b[0m\u001b[1;33m)\u001b[0m\u001b[1;33m\u001b[0m\u001b[1;33m\u001b[0m\u001b[0m\n\u001b[0;32m      3\u001b[0m \u001b[0mi2\u001b[0m \u001b[1;33m=\u001b[0m \u001b[0mint\u001b[0m\u001b[1;33m(\u001b[0m\u001b[0minput\u001b[0m\u001b[1;33m(\u001b[0m\u001b[1;33m)\u001b[0m\u001b[1;33m)\u001b[0m\u001b[1;33m\u001b[0m\u001b[1;33m\u001b[0m\u001b[0m\n\u001b[1;32m----> 4\u001b[1;33m \u001b[1;32massert\u001b[0m\u001b[1;33m(\u001b[0m\u001b[0mi1\u001b[0m\u001b[1;33m==\u001b[0m\u001b[0mi2\u001b[0m\u001b[1;33m)\u001b[0m\u001b[1;33m,\u001b[0m \u001b[1;34mf'Both Values are not same, values are {i1},{i2}'\u001b[0m\u001b[1;33m\u001b[0m\u001b[1;33m\u001b[0m\u001b[0m\n\u001b[0m",
      "\u001b[1;31mAssertionError\u001b[0m: Both Values are not same, values are 34,56"
     ]
    }
   ],
   "source": [
    "# Example of assert\n",
    "i1 = int(input())\n",
    "i2 = int(input())\n",
    "assert(i1==i2), f'Both Values are not same, values are {i1},{i2}'"
   ]
  },
  {
   "cell_type": "markdown",
   "id": "000955d2",
   "metadata": {},
   "source": [
    "### 5. Identify two methods for specifying actions to be executed at termination time, regardless of whether or not an exception exists."
   ]
  },
  {
   "cell_type": "raw",
   "id": "4c4b5135",
   "metadata": {},
   "source": [
    "Python Provides else and finally blocks for specifying actions to be executed at termination time, regardless of whether an exceptions exists or not."
   ]
  }
 ],
 "metadata": {
  "kernelspec": {
   "display_name": "Python 3 (ipykernel)",
   "language": "python",
   "name": "python3"
  },
  "language_info": {
   "codemirror_mode": {
    "name": "ipython",
    "version": 3
   },
   "file_extension": ".py",
   "mimetype": "text/x-python",
   "name": "python",
   "nbconvert_exporter": "python",
   "pygments_lexer": "ipython3",
   "version": "3.9.7"
  }
 },
 "nbformat": 4,
 "nbformat_minor": 5
}
