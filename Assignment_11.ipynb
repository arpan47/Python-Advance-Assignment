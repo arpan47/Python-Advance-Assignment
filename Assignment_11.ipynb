{
 "cells": [
  {
   "cell_type": "markdown",
   "id": "c2d547a3",
   "metadata": {},
   "source": [
    "<h1 align='center' style=\"background-color:RGB(255, 228, 145);\">Python Advance Assignment 11</h1>"
   ]
  },
  {
   "cell_type": "markdown",
   "id": "723930b8",
   "metadata": {},
   "source": [
    "### 1. What is the concept of a metaclass ?"
   ]
  },
  {
   "cell_type": "raw",
   "id": "9924f5af",
   "metadata": {},
   "source": [
    "Metaclass in Python is a class of a class that defines how a class behaves. A class is itself an instance of Metaclass, and any instance of class in Python is an instance of type metaclass.\n",
    "Ex. Type of of int, str, float, list, tuple and many more is of metaclass type."
   ]
  },
  {
   "cell_type": "markdown",
   "id": "fb69baf3",
   "metadata": {},
   "source": [
    "### 2. What is the best way to declare a class's metaclass ?"
   ]
  },
  {
   "cell_type": "raw",
   "id": "dd1bd6ad",
   "metadata": {},
   "source": [
    "A way to declare a class’s metaclass is by using metaclass keyword in class definition."
   ]
  },
  {
   "cell_type": "code",
   "execution_count": 6,
   "id": "e1a13053",
   "metadata": {},
   "outputs": [
    {
     "name": "stdout",
     "output_type": "stream",
     "text": [
      "<class 'type'>\n",
      "<class '__main__.meta_class1'>\n"
     ]
    }
   ],
   "source": [
    "class meta_class1(type):\n",
    "    pass\n",
    "class meta_class2(metaclass = meta_class1):\n",
    "    pass\n",
    "\n",
    "print(type(meta_class1))\n",
    "print(type(meta_class2))"
   ]
  },
  {
   "cell_type": "markdown",
   "id": "b98ca49e",
   "metadata": {},
   "source": [
    "### 3. How do class decorators overlap with metaclasses for handling classes ?"
   ]
  },
  {
   "cell_type": "raw",
   "id": "8a089aad",
   "metadata": {},
   "source": [
    "Anything you can do with a class decorator, you can of course do with a custom metaclasses ( just apply the functionality of the \"decorator function\", i.e., the one that takes a class object and modifies it, in the course of the metaclass's __new__ or __init__ that make the class object)."
   ]
  },
  {
   "cell_type": "markdown",
   "id": "aacc6a8f",
   "metadata": {},
   "source": [
    "### 4. How do class decorators overlap with metaclasses for handling instances ?"
   ]
  },
  {
   "cell_type": "raw",
   "id": "d2ba1f6d",
   "metadata": {},
   "source": [
    "Anything you can do with a class decorator, you can of course do with a custom metaclass (just apply the functionality of the \"decorator function\", i.e., the one that takes a class object and modifies it, in the course of the metaclass's __new__ or __init__ that make the class object!)."
   ]
  }
 ],
 "metadata": {
  "kernelspec": {
   "display_name": "Python 3 (ipykernel)",
   "language": "python",
   "name": "python3"
  },
  "language_info": {
   "codemirror_mode": {
    "name": "ipython",
    "version": 3
   },
   "file_extension": ".py",
   "mimetype": "text/x-python",
   "name": "python",
   "nbconvert_exporter": "python",
   "pygments_lexer": "ipython3",
   "version": "3.9.7"
  }
 },
 "nbformat": 4,
 "nbformat_minor": 5
}
